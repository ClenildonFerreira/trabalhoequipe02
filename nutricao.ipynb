{
 "cells": [
  {
   "cell_type": "markdown",
   "metadata": {},
   "source": [
    "# Trabalho de PI "
   ]
  },
  {
   "cell_type": "markdown",
   "metadata": {},
   "source": [
    "## Equipe:\n",
    "#### Clenildon Ferreira\n",
    "#### Wellington de Alencar\n",
    "#### Kelvis Mendes \n",
    "#### Joaquim \n",
    "#### Ramiro Junior\n",
    "#### Samuel Araújo"
   ]
  },
  {
   "cell_type": "code",
   "execution_count": 60,
   "metadata": {},
   "outputs": [],
   "source": [
    "import pandas as pd\n",
    "import sweetviz as sv\n",
    "import numpy as np\n",
    "from pandas_profiling import ProfileReport\n",
    "import matplotlib.pyplot as plt\n",
    "import seaborn as sns"
   ]
  },
  {
   "cell_type": "code",
   "execution_count": 61,
   "metadata": {},
   "outputs": [
    {
     "data": {
      "text/plain": [
       "78214870040                  int64\n",
       "MASCULINO                   object\n",
       "80                           int64\n",
       "73                           int64\n",
       "167                          int64\n",
       "41                           int64\n",
       "26,2                        object\n",
       "PESO ADEQUADO               object\n",
       "SEM RISCO DE DESNUTRICAO    object\n",
       "2190                         int64\n",
       "dtype: object"
      ]
     },
     "execution_count": 61,
     "metadata": {},
     "output_type": "execute_result"
    }
   ],
   "source": [
    "dados = pd.read_csv('BASEPROVA.csv')\n",
    "dados.dtypes"
   ]
  },
  {
   "cell_type": "code",
   "execution_count": 62,
   "metadata": {
    "scrolled": true
   },
   "outputs": [
    {
     "data": {
      "text/html": [
       "<div>\n",
       "<style scoped>\n",
       "    .dataframe tbody tr th:only-of-type {\n",
       "        vertical-align: middle;\n",
       "    }\n",
       "\n",
       "    .dataframe tbody tr th {\n",
       "        vertical-align: top;\n",
       "    }\n",
       "\n",
       "    .dataframe thead th {\n",
       "        text-align: right;\n",
       "    }\n",
       "</style>\n",
       "<table border=\"1\" class=\"dataframe\">\n",
       "  <thead>\n",
       "    <tr style=\"text-align: right;\">\n",
       "      <th></th>\n",
       "      <th>CÓD</th>\n",
       "      <th>SEXO</th>\n",
       "      <th>IDADE</th>\n",
       "      <th>PESO</th>\n",
       "      <th>ALTURA</th>\n",
       "      <th>CP</th>\n",
       "      <th>IMC</th>\n",
       "      <th>CDI</th>\n",
       "      <th>CDCP</th>\n",
       "      <th>GE</th>\n",
       "    </tr>\n",
       "  </thead>\n",
       "  <tbody>\n",
       "    <tr>\n",
       "      <th>3993</th>\n",
       "      <td>19576203448</td>\n",
       "      <td>FEMININO</td>\n",
       "      <td>80</td>\n",
       "      <td>87</td>\n",
       "      <td>1.89</td>\n",
       "      <td>33</td>\n",
       "      <td>24,4</td>\n",
       "      <td>PESO ADEQUADO</td>\n",
       "      <td>SEM RISCO DE DESNUTRICAO</td>\n",
       "      <td>2610</td>\n",
       "    </tr>\n",
       "    <tr>\n",
       "      <th>3994</th>\n",
       "      <td>33124106007</td>\n",
       "      <td>MASCULINO</td>\n",
       "      <td>60</td>\n",
       "      <td>72</td>\n",
       "      <td>1.48</td>\n",
       "      <td>27</td>\n",
       "      <td>32,9</td>\n",
       "      <td>EXCESSO DE PESO</td>\n",
       "      <td>COM RISCO DE DESNUTRICAO</td>\n",
       "      <td>2160</td>\n",
       "    </tr>\n",
       "    <tr>\n",
       "      <th>3995</th>\n",
       "      <td>26993630616</td>\n",
       "      <td>FEMININO</td>\n",
       "      <td>83</td>\n",
       "      <td>94</td>\n",
       "      <td>1.69</td>\n",
       "      <td>36</td>\n",
       "      <td>32,9</td>\n",
       "      <td>EXCESSO DE PESO</td>\n",
       "      <td>SEM RISCO DE DESNUTRICAO</td>\n",
       "      <td>2820</td>\n",
       "    </tr>\n",
       "    <tr>\n",
       "      <th>3996</th>\n",
       "      <td>54526726800</td>\n",
       "      <td>FEMININO</td>\n",
       "      <td>73</td>\n",
       "      <td>79</td>\n",
       "      <td>1.41</td>\n",
       "      <td>37</td>\n",
       "      <td>39,7</td>\n",
       "      <td>EXCESSO DE PESO</td>\n",
       "      <td>SEM RISCO DE DESNUTRICAO</td>\n",
       "      <td>2370</td>\n",
       "    </tr>\n",
       "    <tr>\n",
       "      <th>3997</th>\n",
       "      <td>91339808848</td>\n",
       "      <td>MASCULINO</td>\n",
       "      <td>78</td>\n",
       "      <td>58</td>\n",
       "      <td>1.48</td>\n",
       "      <td>41</td>\n",
       "      <td>26,5</td>\n",
       "      <td>PESO ADEQUADO</td>\n",
       "      <td>SEM RISCO DE DESNUTRICAO</td>\n",
       "      <td>1740</td>\n",
       "    </tr>\n",
       "  </tbody>\n",
       "</table>\n",
       "</div>"
      ],
      "text/plain": [
       "              CÓD       SEXO  IDADE  PESO  ALTURA  CP   IMC              CDI  \\\n",
       "3993  19576203448   FEMININO     80    87    1.89  33  24,4    PESO ADEQUADO   \n",
       "3994  33124106007  MASCULINO     60    72    1.48  27  32,9  EXCESSO DE PESO   \n",
       "3995  26993630616   FEMININO     83    94    1.69  36  32,9  EXCESSO DE PESO   \n",
       "3996  54526726800   FEMININO     73    79    1.41  37  39,7  EXCESSO DE PESO   \n",
       "3997  91339808848  MASCULINO     78    58    1.48  41  26,5    PESO ADEQUADO   \n",
       "\n",
       "                          CDCP    GE  \n",
       "3993  SEM RISCO DE DESNUTRICAO  2610  \n",
       "3994  COM RISCO DE DESNUTRICAO  2160  \n",
       "3995  SEM RISCO DE DESNUTRICAO  2820  \n",
       "3996  SEM RISCO DE DESNUTRICAO  2370  \n",
       "3997  SEM RISCO DE DESNUTRICAO  1740  "
      ]
     },
     "execution_count": 62,
     "metadata": {},
     "output_type": "execute_result"
    }
   ],
   "source": [
    "dados = pd.read_csv('BASEPROVA.csv')\n",
    "dados.rename(columns={'78214870040':'CÓD', 'MASCULINO':'SEXO', '80':'IDADE', '73':'PESO', '167':'ALTURA', '41':'CP', '26,2':'IMC', 'PESO ADEQUADO':'CDI', 'SEM RISCO DE DESNUTRICAO':'CDCP', '2190':'GE'}, inplace = True)\n",
    "dados['ALTURA'] = dados.ALTURA/100 #traformando para cm para m\n",
    "dados.tail()"
   ]
  },
  {
   "cell_type": "markdown",
   "metadata": {},
   "source": [
    "#  Análise  de Variáveis Quantitativa "
   ]
  },
  {
   "cell_type": "code",
   "execution_count": 63,
   "metadata": {},
   "outputs": [
    {
     "data": {
      "text/plain": [
       "MASCULINO    2049\n",
       "FEMININO     1949\n",
       "Name: SEXO, dtype: int64"
      ]
     },
     "execution_count": 63,
     "metadata": {},
     "output_type": "execute_result"
    }
   ],
   "source": [
    "dados.SEXO.value_counts() #quantidade por sexo \n"
   ]
  },
  {
   "cell_type": "code",
   "execution_count": 64,
   "metadata": {},
   "outputs": [
    {
     "data": {
      "text/plain": [
       "MASCULINO    0.512506\n",
       "FEMININO     0.487494\n",
       "Name: SEXO, dtype: float64"
      ]
     },
     "execution_count": 64,
     "metadata": {},
     "output_type": "execute_result"
    }
   ],
   "source": [
    "dados.SEXO.value_counts() / dados.shape[0] #quantidade sexo"
   ]
  },
  {
   "cell_type": "code",
   "execution_count": 65,
   "metadata": {},
   "outputs": [
    {
     "data": {
      "text/plain": [
       "(3998, 10)"
      ]
     },
     "execution_count": 65,
     "metadata": {},
     "output_type": "execute_result"
    }
   ],
   "source": [
    "dados.shape"
   ]
  },
  {
   "cell_type": "code",
   "execution_count": 66,
   "metadata": {},
   "outputs": [
    {
     "data": {
      "text/plain": [
       "EXCESSO DE PESO    55.927964\n",
       "PESO ADEQUADO      23.086543\n",
       "BAIXO PESO         20.985493\n",
       "Name: CDI, dtype: float64"
      ]
     },
     "execution_count": 66,
     "metadata": {},
     "output_type": "execute_result"
    }
   ],
   "source": [
    "dados.CDI.value_counts() / dados.shape[0] * 100 #situação do CDI "
   ]
  },
  {
   "cell_type": "code",
   "execution_count": 67,
   "metadata": {
    "scrolled": false
   },
   "outputs": [
    {
     "data": {
      "text/plain": [
       "SEM RISCO DE DESNUTRICAO    73.936968\n",
       "COM RISCO DE DESNUTRICAO    26.063032\n",
       "Name: CDCP, dtype: float64"
      ]
     },
     "execution_count": 67,
     "metadata": {},
     "output_type": "execute_result"
    }
   ],
   "source": [
    "dados.CDCP.value_counts() / dados.shape[0] * 100 #situação do CDCP"
   ]
  },
  {
   "cell_type": "markdown",
   "metadata": {},
   "source": [
    "## Estatísticas Descritivas"
   ]
  },
  {
   "cell_type": "code",
   "execution_count": 68,
   "metadata": {},
   "outputs": [
    {
     "data": {
      "text/plain": [
       "79.46673336668334"
      ]
     },
     "execution_count": 68,
     "metadata": {},
     "output_type": "execute_result"
    }
   ],
   "source": [
    "dados.IDADE.mean() #media idade"
   ]
  },
  {
   "cell_type": "code",
   "execution_count": 69,
   "metadata": {},
   "outputs": [
    {
     "data": {
      "text/plain": [
       "80.0"
      ]
     },
     "execution_count": 69,
     "metadata": {},
     "output_type": "execute_result"
    }
   ],
   "source": [
    "dados.IDADE.median() #mediana"
   ]
  },
  {
   "cell_type": "code",
   "execution_count": 70,
   "metadata": {},
   "outputs": [
    {
     "data": {
      "text/plain": [
       "132.77384927139656"
      ]
     },
     "execution_count": 70,
     "metadata": {},
     "output_type": "execute_result"
    }
   ],
   "source": [
    "dados.IDADE.var() #variância"
   ]
  },
  {
   "cell_type": "code",
   "execution_count": 71,
   "metadata": {},
   "outputs": [
    {
     "data": {
      "text/plain": [
       "11.522753545546157"
      ]
     },
     "execution_count": 71,
     "metadata": {},
     "output_type": "execute_result"
    }
   ],
   "source": [
    "dados.IDADE.std() #desvio padrão"
   ]
  },
  {
   "cell_type": "code",
   "execution_count": 72,
   "metadata": {
    "scrolled": false
   },
   "outputs": [
    {
     "data": {
      "text/html": [
       "<div>\n",
       "<style scoped>\n",
       "    .dataframe tbody tr th:only-of-type {\n",
       "        vertical-align: middle;\n",
       "    }\n",
       "\n",
       "    .dataframe tbody tr th {\n",
       "        vertical-align: top;\n",
       "    }\n",
       "\n",
       "    .dataframe thead th {\n",
       "        text-align: right;\n",
       "    }\n",
       "</style>\n",
       "<table border=\"1\" class=\"dataframe\">\n",
       "  <thead>\n",
       "    <tr style=\"text-align: right;\">\n",
       "      <th></th>\n",
       "      <th>CÓD</th>\n",
       "      <th>IDADE</th>\n",
       "      <th>PESO</th>\n",
       "      <th>ALTURA</th>\n",
       "      <th>CP</th>\n",
       "      <th>GE</th>\n",
       "    </tr>\n",
       "  </thead>\n",
       "  <tbody>\n",
       "    <tr>\n",
       "      <th>count</th>\n",
       "      <td>3.998000e+03</td>\n",
       "      <td>3998.000000</td>\n",
       "      <td>3998.000000</td>\n",
       "      <td>3998.000000</td>\n",
       "      <td>3998.000000</td>\n",
       "      <td>3998.000000</td>\n",
       "    </tr>\n",
       "    <tr>\n",
       "      <th>mean</th>\n",
       "      <td>5.484553e+10</td>\n",
       "      <td>79.466733</td>\n",
       "      <td>77.253877</td>\n",
       "      <td>1.650613</td>\n",
       "      <td>34.044272</td>\n",
       "      <td>2317.616308</td>\n",
       "    </tr>\n",
       "    <tr>\n",
       "      <th>std</th>\n",
       "      <td>2.584688e+10</td>\n",
       "      <td>11.522754</td>\n",
       "      <td>16.416118</td>\n",
       "      <td>0.141781</td>\n",
       "      <td>4.296293</td>\n",
       "      <td>492.483554</td>\n",
       "    </tr>\n",
       "    <tr>\n",
       "      <th>min</th>\n",
       "      <td>1.000026e+10</td>\n",
       "      <td>60.000000</td>\n",
       "      <td>49.000000</td>\n",
       "      <td>1.410000</td>\n",
       "      <td>27.000000</td>\n",
       "      <td>1470.000000</td>\n",
       "    </tr>\n",
       "    <tr>\n",
       "      <th>25%</th>\n",
       "      <td>3.303419e+10</td>\n",
       "      <td>69.250000</td>\n",
       "      <td>63.000000</td>\n",
       "      <td>1.530000</td>\n",
       "      <td>30.000000</td>\n",
       "      <td>1890.000000</td>\n",
       "    </tr>\n",
       "    <tr>\n",
       "      <th>50%</th>\n",
       "      <td>5.472436e+10</td>\n",
       "      <td>80.000000</td>\n",
       "      <td>78.000000</td>\n",
       "      <td>1.650000</td>\n",
       "      <td>34.000000</td>\n",
       "      <td>2340.000000</td>\n",
       "    </tr>\n",
       "    <tr>\n",
       "      <th>75%</th>\n",
       "      <td>7.692627e+10</td>\n",
       "      <td>90.000000</td>\n",
       "      <td>91.000000</td>\n",
       "      <td>1.770000</td>\n",
       "      <td>38.000000</td>\n",
       "      <td>2730.000000</td>\n",
       "    </tr>\n",
       "    <tr>\n",
       "      <th>max</th>\n",
       "      <td>9.997719e+10</td>\n",
       "      <td>99.000000</td>\n",
       "      <td>105.000000</td>\n",
       "      <td>1.890000</td>\n",
       "      <td>41.000000</td>\n",
       "      <td>3150.000000</td>\n",
       "    </tr>\n",
       "  </tbody>\n",
       "</table>\n",
       "</div>"
      ],
      "text/plain": [
       "                CÓD        IDADE         PESO       ALTURA           CP  \\\n",
       "count  3.998000e+03  3998.000000  3998.000000  3998.000000  3998.000000   \n",
       "mean   5.484553e+10    79.466733    77.253877     1.650613    34.044272   \n",
       "std    2.584688e+10    11.522754    16.416118     0.141781     4.296293   \n",
       "min    1.000026e+10    60.000000    49.000000     1.410000    27.000000   \n",
       "25%    3.303419e+10    69.250000    63.000000     1.530000    30.000000   \n",
       "50%    5.472436e+10    80.000000    78.000000     1.650000    34.000000   \n",
       "75%    7.692627e+10    90.000000    91.000000     1.770000    38.000000   \n",
       "max    9.997719e+10    99.000000   105.000000     1.890000    41.000000   \n",
       "\n",
       "                GE  \n",
       "count  3998.000000  \n",
       "mean   2317.616308  \n",
       "std     492.483554  \n",
       "min    1470.000000  \n",
       "25%    1890.000000  \n",
       "50%    2340.000000  \n",
       "75%    2730.000000  \n",
       "max    3150.000000  "
      ]
     },
     "execution_count": 72,
     "metadata": {},
     "output_type": "execute_result"
    }
   ],
   "source": [
    "dados.describe()"
   ]
  },
  {
   "cell_type": "code",
   "execution_count": 73,
   "metadata": {},
   "outputs": [
    {
     "data": {
      "text/html": [
       "<div>\n",
       "<style scoped>\n",
       "    .dataframe tbody tr th:only-of-type {\n",
       "        vertical-align: middle;\n",
       "    }\n",
       "\n",
       "    .dataframe tbody tr th {\n",
       "        vertical-align: top;\n",
       "    }\n",
       "\n",
       "    .dataframe thead th {\n",
       "        text-align: right;\n",
       "    }\n",
       "</style>\n",
       "<table border=\"1\" class=\"dataframe\">\n",
       "  <thead>\n",
       "    <tr style=\"text-align: right;\">\n",
       "      <th></th>\n",
       "      <th>CÓD</th>\n",
       "      <th>SEXO</th>\n",
       "      <th>IDADE</th>\n",
       "      <th>PESO</th>\n",
       "      <th>ALTURA</th>\n",
       "      <th>CP</th>\n",
       "      <th>IMC</th>\n",
       "      <th>CDI</th>\n",
       "      <th>CDCP</th>\n",
       "      <th>GE</th>\n",
       "    </tr>\n",
       "  </thead>\n",
       "  <tbody>\n",
       "    <tr>\n",
       "      <th>0</th>\n",
       "      <td>99709544622</td>\n",
       "      <td>MASCULINO</td>\n",
       "      <td>62</td>\n",
       "      <td>84</td>\n",
       "      <td>1.61</td>\n",
       "      <td>29</td>\n",
       "      <td>32,4</td>\n",
       "      <td>EXCESSO DE PESO</td>\n",
       "      <td>COM RISCO DE DESNUTRICAO</td>\n",
       "      <td>2520</td>\n",
       "    </tr>\n",
       "    <tr>\n",
       "      <th>1</th>\n",
       "      <td>32205021941</td>\n",
       "      <td>FEMININO</td>\n",
       "      <td>81</td>\n",
       "      <td>66</td>\n",
       "      <td>1.50</td>\n",
       "      <td>31</td>\n",
       "      <td>29,3</td>\n",
       "      <td>EXCESSO DE PESO</td>\n",
       "      <td>SEM RISCO DE DESNUTRICAO</td>\n",
       "      <td>1980</td>\n",
       "    </tr>\n",
       "    <tr>\n",
       "      <th>2</th>\n",
       "      <td>76339377550</td>\n",
       "      <td>MASCULINO</td>\n",
       "      <td>87</td>\n",
       "      <td>51</td>\n",
       "      <td>1.72</td>\n",
       "      <td>29</td>\n",
       "      <td>17,2</td>\n",
       "      <td>BAIXO PESO</td>\n",
       "      <td>COM RISCO DE DESNUTRICAO</td>\n",
       "      <td>1530</td>\n",
       "    </tr>\n",
       "    <tr>\n",
       "      <th>3</th>\n",
       "      <td>44504209564</td>\n",
       "      <td>MASCULINO</td>\n",
       "      <td>69</td>\n",
       "      <td>84</td>\n",
       "      <td>1.55</td>\n",
       "      <td>29</td>\n",
       "      <td>35</td>\n",
       "      <td>EXCESSO DE PESO</td>\n",
       "      <td>COM RISCO DE DESNUTRICAO</td>\n",
       "      <td>2520</td>\n",
       "    </tr>\n",
       "    <tr>\n",
       "      <th>4</th>\n",
       "      <td>17811598369</td>\n",
       "      <td>FEMININO</td>\n",
       "      <td>93</td>\n",
       "      <td>90</td>\n",
       "      <td>1.45</td>\n",
       "      <td>39</td>\n",
       "      <td>42,8</td>\n",
       "      <td>EXCESSO DE PESO</td>\n",
       "      <td>SEM RISCO DE DESNUTRICAO</td>\n",
       "      <td>2700</td>\n",
       "    </tr>\n",
       "  </tbody>\n",
       "</table>\n",
       "</div>"
      ],
      "text/plain": [
       "           CÓD       SEXO  IDADE  PESO  ALTURA  CP   IMC              CDI  \\\n",
       "0  99709544622  MASCULINO     62    84    1.61  29  32,4  EXCESSO DE PESO   \n",
       "1  32205021941   FEMININO     81    66    1.50  31  29,3  EXCESSO DE PESO   \n",
       "2  76339377550  MASCULINO     87    51    1.72  29  17,2       BAIXO PESO   \n",
       "3  44504209564  MASCULINO     69    84    1.55  29    35  EXCESSO DE PESO   \n",
       "4  17811598369   FEMININO     93    90    1.45  39  42,8  EXCESSO DE PESO   \n",
       "\n",
       "                       CDCP    GE  \n",
       "0  COM RISCO DE DESNUTRICAO  2520  \n",
       "1  SEM RISCO DE DESNUTRICAO  1980  \n",
       "2  COM RISCO DE DESNUTRICAO  1530  \n",
       "3  COM RISCO DE DESNUTRICAO  2520  \n",
       "4  SEM RISCO DE DESNUTRICAO  2700  "
      ]
     },
     "execution_count": 73,
     "metadata": {},
     "output_type": "execute_result"
    }
   ],
   "source": [
    "dados.head()"
   ]
  },
  {
   "cell_type": "code",
   "execution_count": 74,
   "metadata": {},
   "outputs": [
    {
     "data": {
      "text/plain": [
       "CÓD         int64\n",
       "SEXO       object\n",
       "IDADE       int64\n",
       "PESO        int64\n",
       "ALTURA    float64\n",
       "CP          int64\n",
       "IMC        object\n",
       "CDI        object\n",
       "CDCP       object\n",
       "GE          int64\n",
       "dtype: object"
      ]
     },
     "execution_count": 74,
     "metadata": {},
     "output_type": "execute_result"
    }
   ],
   "source": [
    "dados.dtypes"
   ]
  },
  {
   "cell_type": "code",
   "execution_count": 75,
   "metadata": {},
   "outputs": [],
   "source": [
    "#tranforma IMC em numero\n",
    "#dados['IMC'] = pd.to_numeric(dados('IMC'), errors='coerce') \n",
    "#dados['IMC'] = dados.IMC.astype(float)"
   ]
  },
  {
   "cell_type": "markdown",
   "metadata": {},
   "source": [
    "# Análises"
   ]
  },
  {
   "cell_type": "code",
   "execution_count": 76,
   "metadata": {},
   "outputs": [],
   "source": [
    "sns.set(style='whitegrid')\n"
   ]
  },
  {
   "cell_type": "code",
   "execution_count": 77,
   "metadata": {
    "scrolled": true
   },
   "outputs": [
    {
     "name": "stderr",
     "output_type": "stream",
     "text": [
      "C:\\ProgramData\\Anaconda3\\lib\\site-packages\\seaborn\\_decorators.py:36: FutureWarning: Pass the following variable as a keyword arg: x. From version 0.12, the only valid positional argument will be `data`, and passing other arguments without an explicit keyword will result in an error or misinterpretation.\n",
      "  warnings.warn(\n"
     ]
    },
    {
     "data": {
      "image/png": "[encoded data removed]",
      "text/plain": [
       "<Figure size 600x400 with 1 Axes>"
      ]
     },
     "metadata": {},
     "output_type": "display_data"
    }
   ],
   "source": [
    "#sexo\n",
    "sns.countplot(dados.SEXO)\n",
    "plt.title(\"Sexo\")\n",
    "plt.xlabel(\"\")\n",
    "plt.ylabel(\"Frequência\")\n",
    "plt.show()"
   ]
  },
  {
   "cell_type": "code",
   "execution_count": 78,
   "metadata": {},
   "outputs": [
    {
     "name": "stderr",
     "output_type": "stream",
     "text": [
      "C:\\ProgramData\\Anaconda3\\lib\\site-packages\\seaborn\\_decorators.py:36: FutureWarning: Pass the following variable as a keyword arg: x. From version 0.12, the only valid positional argument will be `data`, and passing other arguments without an explicit keyword will result in an error or misinterpretation.\n",
      "  warnings.warn(\n"
     ]
    },
    {
     "data": {
      "image/png": "[encoded data removed]",
      "text/plain": [
       "<Figure size 600x400 with 1 Axes>"
      ]
     },
     "metadata": {},
     "output_type": "display_data"
    }
   ],
   "source": [
    "#CIRCUNFERÊNCIA DO BRACO\n",
    "sns.countplot(dados.CP)\n",
    "plt.title(\"CIRCUNFERÊNCIA DO BRACO\")\n",
    "plt.xlabel(\"\")\n",
    "plt.ylabel(\"Frequência\")\n",
    "plt.show()"
   ]
  },
  {
   "cell_type": "code",
   "execution_count": 79,
   "metadata": {
    "scrolled": true
   },
   "outputs": [
    {
     "name": "stderr",
     "output_type": "stream",
     "text": [
      "C:\\ProgramData\\Anaconda3\\lib\\site-packages\\seaborn\\_decorators.py:36: FutureWarning: Pass the following variable as a keyword arg: x. From version 0.12, the only valid positional argument will be `data`, and passing other arguments without an explicit keyword will result in an error or misinterpretation.\n",
      "  warnings.warn(\n"
     ]
    },
    {
     "data": {
      "image/png": "[encoded data removed]",
      "text/plain": [
       "<Figure size 600x400 with 1 Axes>"
      ]
     },
     "metadata": {},
     "output_type": "display_data"
    }
   ],
   "source": [
    "#CLASSIFICAÇÃO  DO IMC\n",
    "sns.countplot(dados.CDI)\n",
    "plt.title(\"CLASSIFICAÇÃO  DO IMC\")\n",
    "plt.xlabel(\"\")\n",
    "plt.ylabel(\"Frequência\")\n",
    "plt.show()"
   ]
  },
  {
   "cell_type": "code",
   "execution_count": 80,
   "metadata": {
    "scrolled": true
   },
   "outputs": [
    {
     "name": "stderr",
     "output_type": "stream",
     "text": [
      "C:\\ProgramData\\Anaconda3\\lib\\site-packages\\seaborn\\_decorators.py:36: FutureWarning: Pass the following variable as a keyword arg: x. From version 0.12, the only valid positional argument will be `data`, and passing other arguments without an explicit keyword will result in an error or misinterpretation.\n",
      "  warnings.warn(\n"
     ]
    },
    {
     "data": {
      "image/png": "[encoded data removed]",
      "text/plain": [
       "<Figure size 600x400 with 1 Axes>"
      ]
     },
     "metadata": {},
     "output_type": "display_data"
    }
   ],
   "source": [
    "#CLASSIFICAÇÃO  DO CIRCUNFERÊNCIA DO BRACO\n",
    "sns.countplot(dados.CDCP)\n",
    "plt.title(\"CLASSIFICAÇÃO  DO CP\")\n",
    "plt.xlabel(\"\")\n",
    "plt.ylabel(\"Frequência\")\n",
    "plt.show()"
   ]
  },
  {
   "cell_type": "code",
   "execution_count": 81,
   "metadata": {},
   "outputs": [
    {
     "name": "stderr",
     "output_type": "stream",
     "text": [
      "C:\\ProgramData\\Anaconda3\\lib\\site-packages\\seaborn\\_decorators.py:36: FutureWarning: Pass the following variable as a keyword arg: x. From version 0.12, the only valid positional argument will be `data`, and passing other arguments without an explicit keyword will result in an error or misinterpretation.\n",
      "  warnings.warn(\n"
     ]
    },
    {
     "data": {
      "image/png": "[encoded data removed]",
      "text/plain": [
       "<Figure size 1500x500 with 1 Axes>"
      ]
     },
     "metadata": {},
     "output_type": "display_data"
    }
   ],
   "source": [
    "plt.figure(figsize=(15,5))\n",
    "sns.countplot(dados.SEXO, hue=dados.CDCP)\n",
    "plt.show()"
   ]
  },
  {
   "cell_type": "code",
   "execution_count": 82,
   "metadata": {},
   "outputs": [
    {
     "name": "stderr",
     "output_type": "stream",
     "text": [
      "C:\\ProgramData\\Anaconda3\\lib\\site-packages\\seaborn\\_decorators.py:36: FutureWarning: Pass the following variable as a keyword arg: x. From version 0.12, the only valid positional argument will be `data`, and passing other arguments without an explicit keyword will result in an error or misinterpretation.\n",
      "  warnings.warn(\n"
     ]
    },
    {
     "data": {
      "image/png": "[encoded data removed]",
      "text/plain": [
       "<Figure size 1500x500 with 1 Axes>"
      ]
     },
     "metadata": {},
     "output_type": "display_data"
    }
   ],
   "source": [
    "plt.figure(figsize=(15,5))\n",
    "sns.countplot(dados.SEXO, hue=dados.CDI)\n",
    "plt.ylabel(\"Frequência\")\n",
    "plt.show()"
   ]
  },
  {
   "cell_type": "code",
   "execution_count": 97,
   "metadata": {},
   "outputs": [
    {
     "data": {
      "image/png": "[encoded data removed]",
      "text/plain": [
       "<Figure size 600x400 with 1 Axes>"
      ]
     },
     "metadata": {},
     "output_type": "display_data"
    }
   ],
   "source": [
    "sns.boxplot(x=dados.SEXO, y=dados.PESO)\n",
    "plt.ylim(70, 90)\n",
    "plt.show()"
   ]
  },
  {
   "cell_type": "code",
   "execution_count": 98,
   "metadata": {
    "scrolled": true
   },
   "outputs": [
    {
     "data": {
      "image/png": "[encoded data removed]",
      "text/plain": [
       "<Figure size 800x300 with 1 Axes>"
      ]
     },
     "metadata": {},
     "output_type": "display_data"
    }
   ],
   "source": [
    "plt.figure(figsize=(8,3))\n",
    "sns.boxplot(x=dados.SEXO, y=dados.GE)\n",
    "plt.ylim(2300, 2350)\n",
    "plt.show()"
   ]
  },
  {
   "cell_type": "code",
   "execution_count": 85,
   "metadata": {},
   "outputs": [],
   "source": [
    "amostra = dados.loc [(dados.IDADE >= 80) & (dados.IDADE <= 100)] #mostra registro: idade entre 80 a 100"
   ]
  },
  {
   "cell_type": "code",
   "execution_count": 99,
   "metadata": {},
   "outputs": [
    {
     "data": {
      "text/html": [
       "<div>\n",
       "<style scoped>\n",
       "    .dataframe tbody tr th:only-of-type {\n",
       "        vertical-align: middle;\n",
       "    }\n",
       "\n",
       "    .dataframe tbody tr th {\n",
       "        vertical-align: top;\n",
       "    }\n",
       "\n",
       "    .dataframe thead th {\n",
       "        text-align: right;\n",
       "    }\n",
       "</style>\n",
       "<table border=\"1\" class=\"dataframe\">\n",
       "  <thead>\n",
       "    <tr style=\"text-align: right;\">\n",
       "      <th></th>\n",
       "      <th>CÓD</th>\n",
       "      <th>IDADE</th>\n",
       "      <th>PESO</th>\n",
       "      <th>ALTURA</th>\n",
       "      <th>CP</th>\n",
       "      <th>GE</th>\n",
       "    </tr>\n",
       "  </thead>\n",
       "  <tbody>\n",
       "    <tr>\n",
       "      <th>count</th>\n",
       "      <td>3.998000e+03</td>\n",
       "      <td>3998.000000</td>\n",
       "      <td>3998.000000</td>\n",
       "      <td>3998.000000</td>\n",
       "      <td>3998.000000</td>\n",
       "      <td>3998.000000</td>\n",
       "    </tr>\n",
       "    <tr>\n",
       "      <th>mean</th>\n",
       "      <td>5.484553e+10</td>\n",
       "      <td>79.466733</td>\n",
       "      <td>77.253877</td>\n",
       "      <td>1.650613</td>\n",
       "      <td>34.044272</td>\n",
       "      <td>2317.616308</td>\n",
       "    </tr>\n",
       "    <tr>\n",
       "      <th>std</th>\n",
       "      <td>2.584688e+10</td>\n",
       "      <td>11.522754</td>\n",
       "      <td>16.416118</td>\n",
       "      <td>0.141781</td>\n",
       "      <td>4.296293</td>\n",
       "      <td>492.483554</td>\n",
       "    </tr>\n",
       "    <tr>\n",
       "      <th>min</th>\n",
       "      <td>1.000026e+10</td>\n",
       "      <td>60.000000</td>\n",
       "      <td>49.000000</td>\n",
       "      <td>1.410000</td>\n",
       "      <td>27.000000</td>\n",
       "      <td>1470.000000</td>\n",
       "    </tr>\n",
       "    <tr>\n",
       "      <th>25%</th>\n",
       "      <td>3.303419e+10</td>\n",
       "      <td>69.250000</td>\n",
       "      <td>63.000000</td>\n",
       "      <td>1.530000</td>\n",
       "      <td>30.000000</td>\n",
       "      <td>1890.000000</td>\n",
       "    </tr>\n",
       "    <tr>\n",
       "      <th>50%</th>\n",
       "      <td>5.472436e+10</td>\n",
       "      <td>80.000000</td>\n",
       "      <td>78.000000</td>\n",
       "      <td>1.650000</td>\n",
       "      <td>34.000000</td>\n",
       "      <td>2340.000000</td>\n",
       "    </tr>\n",
       "    <tr>\n",
       "      <th>75%</th>\n",
       "      <td>7.692627e+10</td>\n",
       "      <td>90.000000</td>\n",
       "      <td>91.000000</td>\n",
       "      <td>1.770000</td>\n",
       "      <td>38.000000</td>\n",
       "      <td>2730.000000</td>\n",
       "    </tr>\n",
       "    <tr>\n",
       "      <th>max</th>\n",
       "      <td>9.997719e+10</td>\n",
       "      <td>99.000000</td>\n",
       "      <td>105.000000</td>\n",
       "      <td>1.890000</td>\n",
       "      <td>41.000000</td>\n",
       "      <td>3150.000000</td>\n",
       "    </tr>\n",
       "  </tbody>\n",
       "</table>\n",
       "</div>"
      ],
      "text/plain": [
       "                CÓD        IDADE         PESO       ALTURA           CP  \\\n",
       "count  3.998000e+03  3998.000000  3998.000000  3998.000000  3998.000000   \n",
       "mean   5.484553e+10    79.466733    77.253877     1.650613    34.044272   \n",
       "std    2.584688e+10    11.522754    16.416118     0.141781     4.296293   \n",
       "min    1.000026e+10    60.000000    49.000000     1.410000    27.000000   \n",
       "25%    3.303419e+10    69.250000    63.000000     1.530000    30.000000   \n",
       "50%    5.472436e+10    80.000000    78.000000     1.650000    34.000000   \n",
       "75%    7.692627e+10    90.000000    91.000000     1.770000    38.000000   \n",
       "max    9.997719e+10    99.000000   105.000000     1.890000    41.000000   \n",
       "\n",
       "                GE  \n",
       "count  3998.000000  \n",
       "mean   2317.616308  \n",
       "std     492.483554  \n",
       "min    1470.000000  \n",
       "25%    1890.000000  \n",
       "50%    2340.000000  \n",
       "75%    2730.000000  \n",
       "max    3150.000000  "
      ]
     },
     "execution_count": 99,
     "metadata": {},
     "output_type": "execute_result"
    }
   ],
   "source": [
    "dados.describe()"
   ]
  },
  {
   "cell_type": "code",
   "execution_count": 86,
   "metadata": {
    "scrolled": false
   },
   "outputs": [
    {
     "data": {
      "text/html": [
       "<div>\n",
       "<style scoped>\n",
       "    .dataframe tbody tr th:only-of-type {\n",
       "        vertical-align: middle;\n",
       "    }\n",
       "\n",
       "    .dataframe tbody tr th {\n",
       "        vertical-align: top;\n",
       "    }\n",
       "\n",
       "    .dataframe thead th {\n",
       "        text-align: right;\n",
       "    }\n",
       "</style>\n",
       "<table border=\"1\" class=\"dataframe\">\n",
       "  <thead>\n",
       "    <tr style=\"text-align: right;\">\n",
       "      <th></th>\n",
       "      <th>CÓD</th>\n",
       "      <th>IDADE</th>\n",
       "      <th>PESO</th>\n",
       "      <th>ALTURA</th>\n",
       "      <th>CP</th>\n",
       "      <th>GE</th>\n",
       "    </tr>\n",
       "  </thead>\n",
       "  <tbody>\n",
       "    <tr>\n",
       "      <th>count</th>\n",
       "      <td>2.001000e+03</td>\n",
       "      <td>2001.000000</td>\n",
       "      <td>2001.000000</td>\n",
       "      <td>2001.000000</td>\n",
       "      <td>2001.000000</td>\n",
       "      <td>2001.000000</td>\n",
       "    </tr>\n",
       "    <tr>\n",
       "      <th>mean</th>\n",
       "      <td>5.427099e+10</td>\n",
       "      <td>89.418291</td>\n",
       "      <td>77.265867</td>\n",
       "      <td>1.647001</td>\n",
       "      <td>34.013493</td>\n",
       "      <td>2317.976012</td>\n",
       "    </tr>\n",
       "    <tr>\n",
       "      <th>std</th>\n",
       "      <td>2.583053e+10</td>\n",
       "      <td>5.809255</td>\n",
       "      <td>16.414179</td>\n",
       "      <td>0.141444</td>\n",
       "      <td>4.275315</td>\n",
       "      <td>492.425377</td>\n",
       "    </tr>\n",
       "    <tr>\n",
       "      <th>min</th>\n",
       "      <td>1.007765e+10</td>\n",
       "      <td>80.000000</td>\n",
       "      <td>49.000000</td>\n",
       "      <td>1.410000</td>\n",
       "      <td>27.000000</td>\n",
       "      <td>1470.000000</td>\n",
       "    </tr>\n",
       "    <tr>\n",
       "      <th>25%</th>\n",
       "      <td>3.199985e+10</td>\n",
       "      <td>84.000000</td>\n",
       "      <td>63.000000</td>\n",
       "      <td>1.530000</td>\n",
       "      <td>30.000000</td>\n",
       "      <td>1890.000000</td>\n",
       "    </tr>\n",
       "    <tr>\n",
       "      <th>50%</th>\n",
       "      <td>5.414951e+10</td>\n",
       "      <td>90.000000</td>\n",
       "      <td>78.000000</td>\n",
       "      <td>1.640000</td>\n",
       "      <td>34.000000</td>\n",
       "      <td>2340.000000</td>\n",
       "    </tr>\n",
       "    <tr>\n",
       "      <th>75%</th>\n",
       "      <td>7.586238e+10</td>\n",
       "      <td>94.000000</td>\n",
       "      <td>91.000000</td>\n",
       "      <td>1.770000</td>\n",
       "      <td>38.000000</td>\n",
       "      <td>2730.000000</td>\n",
       "    </tr>\n",
       "    <tr>\n",
       "      <th>max</th>\n",
       "      <td>9.994589e+10</td>\n",
       "      <td>99.000000</td>\n",
       "      <td>105.000000</td>\n",
       "      <td>1.890000</td>\n",
       "      <td>41.000000</td>\n",
       "      <td>3150.000000</td>\n",
       "    </tr>\n",
       "  </tbody>\n",
       "</table>\n",
       "</div>"
      ],
      "text/plain": [
       "                CÓD        IDADE         PESO       ALTURA           CP  \\\n",
       "count  2.001000e+03  2001.000000  2001.000000  2001.000000  2001.000000   \n",
       "mean   5.427099e+10    89.418291    77.265867     1.647001    34.013493   \n",
       "std    2.583053e+10     5.809255    16.414179     0.141444     4.275315   \n",
       "min    1.007765e+10    80.000000    49.000000     1.410000    27.000000   \n",
       "25%    3.199985e+10    84.000000    63.000000     1.530000    30.000000   \n",
       "50%    5.414951e+10    90.000000    78.000000     1.640000    34.000000   \n",
       "75%    7.586238e+10    94.000000    91.000000     1.770000    38.000000   \n",
       "max    9.994589e+10    99.000000   105.000000     1.890000    41.000000   \n",
       "\n",
       "                GE  \n",
       "count  2001.000000  \n",
       "mean   2317.976012  \n",
       "std     492.425377  \n",
       "min    1470.000000  \n",
       "25%    1890.000000  \n",
       "50%    2340.000000  \n",
       "75%    2730.000000  \n",
       "max    3150.000000  "
      ]
     },
     "execution_count": 86,
     "metadata": {},
     "output_type": "execute_result"
    }
   ],
   "source": [
    "amostra.describe()"
   ]
  },
  {
   "cell_type": "code",
   "execution_count": 87,
   "metadata": {},
   "outputs": [
    {
     "data": {
      "text/html": [
       "<div>\n",
       "<style scoped>\n",
       "    .dataframe tbody tr th:only-of-type {\n",
       "        vertical-align: middle;\n",
       "    }\n",
       "\n",
       "    .dataframe tbody tr th {\n",
       "        vertical-align: top;\n",
       "    }\n",
       "\n",
       "    .dataframe thead th {\n",
       "        text-align: right;\n",
       "    }\n",
       "</style>\n",
       "<table border=\"1\" class=\"dataframe\">\n",
       "  <thead>\n",
       "    <tr style=\"text-align: right;\">\n",
       "      <th></th>\n",
       "      <th></th>\n",
       "      <th>PESO</th>\n",
       "    </tr>\n",
       "    <tr>\n",
       "      <th>SEXO</th>\n",
       "      <th>CP</th>\n",
       "      <th></th>\n",
       "    </tr>\n",
       "  </thead>\n",
       "  <tbody>\n",
       "    <tr>\n",
       "      <th rowspan=\"15\" valign=\"top\">FEMININO</th>\n",
       "      <th>27</th>\n",
       "      <td>77.591549</td>\n",
       "    </tr>\n",
       "    <tr>\n",
       "      <th>28</th>\n",
       "      <td>73.604167</td>\n",
       "    </tr>\n",
       "    <tr>\n",
       "      <th>29</th>\n",
       "      <td>73.333333</td>\n",
       "    </tr>\n",
       "    <tr>\n",
       "      <th>30</th>\n",
       "      <td>77.866667</td>\n",
       "    </tr>\n",
       "    <tr>\n",
       "      <th>31</th>\n",
       "      <td>76.614286</td>\n",
       "    </tr>\n",
       "    <tr>\n",
       "      <th>32</th>\n",
       "      <td>74.250000</td>\n",
       "    </tr>\n",
       "    <tr>\n",
       "      <th>33</th>\n",
       "      <td>77.754098</td>\n",
       "    </tr>\n",
       "    <tr>\n",
       "      <th>34</th>\n",
       "      <td>78.896552</td>\n",
       "    </tr>\n",
       "    <tr>\n",
       "      <th>35</th>\n",
       "      <td>77.175676</td>\n",
       "    </tr>\n",
       "    <tr>\n",
       "      <th>36</th>\n",
       "      <td>79.035088</td>\n",
       "    </tr>\n",
       "    <tr>\n",
       "      <th>37</th>\n",
       "      <td>76.934426</td>\n",
       "    </tr>\n",
       "    <tr>\n",
       "      <th>38</th>\n",
       "      <td>78.808824</td>\n",
       "    </tr>\n",
       "    <tr>\n",
       "      <th>39</th>\n",
       "      <td>76.686747</td>\n",
       "    </tr>\n",
       "    <tr>\n",
       "      <th>40</th>\n",
       "      <td>80.092308</td>\n",
       "    </tr>\n",
       "    <tr>\n",
       "      <th>41</th>\n",
       "      <td>74.140000</td>\n",
       "    </tr>\n",
       "    <tr>\n",
       "      <th rowspan=\"15\" valign=\"top\">MASCULINO</th>\n",
       "      <th>27</th>\n",
       "      <td>78.081967</td>\n",
       "    </tr>\n",
       "    <tr>\n",
       "      <th>28</th>\n",
       "      <td>77.750000</td>\n",
       "    </tr>\n",
       "    <tr>\n",
       "      <th>29</th>\n",
       "      <td>74.111111</td>\n",
       "    </tr>\n",
       "    <tr>\n",
       "      <th>30</th>\n",
       "      <td>78.074627</td>\n",
       "    </tr>\n",
       "    <tr>\n",
       "      <th>31</th>\n",
       "      <td>75.929577</td>\n",
       "    </tr>\n",
       "    <tr>\n",
       "      <th>32</th>\n",
       "      <td>77.909091</td>\n",
       "    </tr>\n",
       "    <tr>\n",
       "      <th>33</th>\n",
       "      <td>77.805195</td>\n",
       "    </tr>\n",
       "    <tr>\n",
       "      <th>34</th>\n",
       "      <td>76.177419</td>\n",
       "    </tr>\n",
       "    <tr>\n",
       "      <th>35</th>\n",
       "      <td>78.256098</td>\n",
       "    </tr>\n",
       "    <tr>\n",
       "      <th>36</th>\n",
       "      <td>77.076923</td>\n",
       "    </tr>\n",
       "    <tr>\n",
       "      <th>37</th>\n",
       "      <td>78.419355</td>\n",
       "    </tr>\n",
       "    <tr>\n",
       "      <th>38</th>\n",
       "      <td>78.478261</td>\n",
       "    </tr>\n",
       "    <tr>\n",
       "      <th>39</th>\n",
       "      <td>74.981132</td>\n",
       "    </tr>\n",
       "    <tr>\n",
       "      <th>40</th>\n",
       "      <td>79.231884</td>\n",
       "    </tr>\n",
       "    <tr>\n",
       "      <th>41</th>\n",
       "      <td>80.177215</td>\n",
       "    </tr>\n",
       "  </tbody>\n",
       "</table>\n",
       "</div>"
      ],
      "text/plain": [
       "                   PESO\n",
       "SEXO      CP           \n",
       "FEMININO  27  77.591549\n",
       "          28  73.604167\n",
       "          29  73.333333\n",
       "          30  77.866667\n",
       "          31  76.614286\n",
       "          32  74.250000\n",
       "          33  77.754098\n",
       "          34  78.896552\n",
       "          35  77.175676\n",
       "          36  79.035088\n",
       "          37  76.934426\n",
       "          38  78.808824\n",
       "          39  76.686747\n",
       "          40  80.092308\n",
       "          41  74.140000\n",
       "MASCULINO 27  78.081967\n",
       "          28  77.750000\n",
       "          29  74.111111\n",
       "          30  78.074627\n",
       "          31  75.929577\n",
       "          32  77.909091\n",
       "          33  77.805195\n",
       "          34  76.177419\n",
       "          35  78.256098\n",
       "          36  77.076923\n",
       "          37  78.419355\n",
       "          38  78.478261\n",
       "          39  74.981132\n",
       "          40  79.231884\n",
       "          41  80.177215"
      ]
     },
     "execution_count": 87,
     "metadata": {},
     "output_type": "execute_result"
    }
   ],
   "source": [
    "amostra.groupby(['SEXO', 'CP']).agg({'PESO' : 'mean'})"
   ]
  },
  {
   "cell_type": "code",
   "execution_count": 88,
   "metadata": {},
   "outputs": [
    {
     "data": {
      "text/html": [
       "<div>\n",
       "<style scoped>\n",
       "    .dataframe tbody tr th:only-of-type {\n",
       "        vertical-align: middle;\n",
       "    }\n",
       "\n",
       "    .dataframe tbody tr th {\n",
       "        vertical-align: top;\n",
       "    }\n",
       "\n",
       "    .dataframe thead th {\n",
       "        text-align: right;\n",
       "    }\n",
       "</style>\n",
       "<table border=\"1\" class=\"dataframe\">\n",
       "  <thead>\n",
       "    <tr style=\"text-align: right;\">\n",
       "      <th></th>\n",
       "      <th>IDADE</th>\n",
       "    </tr>\n",
       "    <tr>\n",
       "      <th>SEXO</th>\n",
       "      <th></th>\n",
       "    </tr>\n",
       "  </thead>\n",
       "  <tbody>\n",
       "    <tr>\n",
       "      <th>FEMININO</th>\n",
       "      <td>89.421107</td>\n",
       "    </tr>\n",
       "    <tr>\n",
       "      <th>MASCULINO</th>\n",
       "      <td>89.415610</td>\n",
       "    </tr>\n",
       "  </tbody>\n",
       "</table>\n",
       "</div>"
      ],
      "text/plain": [
       "               IDADE\n",
       "SEXO                \n",
       "FEMININO   89.421107\n",
       "MASCULINO  89.415610"
      ]
     },
     "execution_count": 88,
     "metadata": {},
     "output_type": "execute_result"
    }
   ],
   "source": [
    "amostra.groupby(['SEXO' ]).agg({'IDADE' : 'mean'})"
   ]
  },
  {
   "cell_type": "code",
   "execution_count": 89,
   "metadata": {
    "scrolled": true
   },
   "outputs": [
    {
     "data": {
      "text/html": [
       "<div>\n",
       "<style scoped>\n",
       "    .dataframe tbody tr th:only-of-type {\n",
       "        vertical-align: middle;\n",
       "    }\n",
       "\n",
       "    .dataframe tbody tr th {\n",
       "        vertical-align: top;\n",
       "    }\n",
       "\n",
       "    .dataframe thead th {\n",
       "        text-align: right;\n",
       "    }\n",
       "</style>\n",
       "<table border=\"1\" class=\"dataframe\">\n",
       "  <thead>\n",
       "    <tr style=\"text-align: right;\">\n",
       "      <th></th>\n",
       "      <th></th>\n",
       "      <th>PESO</th>\n",
       "    </tr>\n",
       "    <tr>\n",
       "      <th>SEXO</th>\n",
       "      <th>CDI</th>\n",
       "      <th></th>\n",
       "    </tr>\n",
       "  </thead>\n",
       "  <tbody>\n",
       "    <tr>\n",
       "      <th rowspan=\"3\" valign=\"top\">FEMININO</th>\n",
       "      <th>BAIXO PESO</th>\n",
       "      <td>58.289216</td>\n",
       "    </tr>\n",
       "    <tr>\n",
       "      <th>EXCESSO DE PESO</th>\n",
       "      <td>86.805243</td>\n",
       "    </tr>\n",
       "    <tr>\n",
       "      <th>PESO ADEQUADO</th>\n",
       "      <td>70.718487</td>\n",
       "    </tr>\n",
       "    <tr>\n",
       "      <th rowspan=\"3\" valign=\"top\">MASCULINO</th>\n",
       "      <th>BAIXO PESO</th>\n",
       "      <td>57.387255</td>\n",
       "    </tr>\n",
       "    <tr>\n",
       "      <th>EXCESSO DE PESO</th>\n",
       "      <td>87.201354</td>\n",
       "    </tr>\n",
       "    <tr>\n",
       "      <th>PESO ADEQUADO</th>\n",
       "      <td>70.826087</td>\n",
       "    </tr>\n",
       "  </tbody>\n",
       "</table>\n",
       "</div>"
      ],
      "text/plain": [
       "                                PESO\n",
       "SEXO      CDI                       \n",
       "FEMININO  BAIXO PESO       58.289216\n",
       "          EXCESSO DE PESO  86.805243\n",
       "          PESO ADEQUADO    70.718487\n",
       "MASCULINO BAIXO PESO       57.387255\n",
       "          EXCESSO DE PESO  87.201354\n",
       "          PESO ADEQUADO    70.826087"
      ]
     },
     "execution_count": 89,
     "metadata": {},
     "output_type": "execute_result"
    }
   ],
   "source": [
    "amostra.groupby(['SEXO', 'CDI', ]).agg({'PESO' : 'mean'})"
   ]
  },
  {
   "cell_type": "markdown",
   "metadata": {},
   "source": [
    "## Interação entre Idade e Peso"
   ]
  },
  {
   "cell_type": "code",
   "execution_count": 90,
   "metadata": {},
   "outputs": [
    {
     "data": {
      "text/html": [
       "<div>\n",
       "<style scoped>\n",
       "    .dataframe tbody tr th:only-of-type {\n",
       "        vertical-align: middle;\n",
       "    }\n",
       "\n",
       "    .dataframe tbody tr th {\n",
       "        vertical-align: top;\n",
       "    }\n",
       "\n",
       "    .dataframe thead th {\n",
       "        text-align: right;\n",
       "    }\n",
       "</style>\n",
       "<table border=\"1\" class=\"dataframe\">\n",
       "  <thead>\n",
       "    <tr style=\"text-align: right;\">\n",
       "      <th></th>\n",
       "      <th>IDADE</th>\n",
       "      <th>PESO</th>\n",
       "    </tr>\n",
       "  </thead>\n",
       "  <tbody>\n",
       "    <tr>\n",
       "      <th>0</th>\n",
       "      <td>80</td>\n",
       "      <td>78.078947</td>\n",
       "    </tr>\n",
       "    <tr>\n",
       "      <th>1</th>\n",
       "      <td>81</td>\n",
       "      <td>78.189655</td>\n",
       "    </tr>\n",
       "    <tr>\n",
       "      <th>2</th>\n",
       "      <td>82</td>\n",
       "      <td>77.306931</td>\n",
       "    </tr>\n",
       "    <tr>\n",
       "      <th>3</th>\n",
       "      <td>83</td>\n",
       "      <td>76.051020</td>\n",
       "    </tr>\n",
       "    <tr>\n",
       "      <th>4</th>\n",
       "      <td>84</td>\n",
       "      <td>75.562500</td>\n",
       "    </tr>\n",
       "    <tr>\n",
       "      <th>5</th>\n",
       "      <td>85</td>\n",
       "      <td>75.608696</td>\n",
       "    </tr>\n",
       "    <tr>\n",
       "      <th>6</th>\n",
       "      <td>86</td>\n",
       "      <td>77.070707</td>\n",
       "    </tr>\n",
       "    <tr>\n",
       "      <th>7</th>\n",
       "      <td>87</td>\n",
       "      <td>76.647059</td>\n",
       "    </tr>\n",
       "    <tr>\n",
       "      <th>8</th>\n",
       "      <td>88</td>\n",
       "      <td>78.168675</td>\n",
       "    </tr>\n",
       "    <tr>\n",
       "      <th>9</th>\n",
       "      <td>89</td>\n",
       "      <td>82.759615</td>\n",
       "    </tr>\n",
       "    <tr>\n",
       "      <th>10</th>\n",
       "      <td>90</td>\n",
       "      <td>77.238938</td>\n",
       "    </tr>\n",
       "    <tr>\n",
       "      <th>11</th>\n",
       "      <td>91</td>\n",
       "      <td>75.605263</td>\n",
       "    </tr>\n",
       "    <tr>\n",
       "      <th>12</th>\n",
       "      <td>92</td>\n",
       "      <td>76.360825</td>\n",
       "    </tr>\n",
       "    <tr>\n",
       "      <th>13</th>\n",
       "      <td>93</td>\n",
       "      <td>76.431034</td>\n",
       "    </tr>\n",
       "    <tr>\n",
       "      <th>14</th>\n",
       "      <td>94</td>\n",
       "      <td>77.524590</td>\n",
       "    </tr>\n",
       "    <tr>\n",
       "      <th>15</th>\n",
       "      <td>95</td>\n",
       "      <td>76.849057</td>\n",
       "    </tr>\n",
       "    <tr>\n",
       "      <th>16</th>\n",
       "      <td>96</td>\n",
       "      <td>78.692308</td>\n",
       "    </tr>\n",
       "    <tr>\n",
       "      <th>17</th>\n",
       "      <td>97</td>\n",
       "      <td>75.111111</td>\n",
       "    </tr>\n",
       "    <tr>\n",
       "      <th>18</th>\n",
       "      <td>98</td>\n",
       "      <td>79.000000</td>\n",
       "    </tr>\n",
       "    <tr>\n",
       "      <th>19</th>\n",
       "      <td>99</td>\n",
       "      <td>76.367816</td>\n",
       "    </tr>\n",
       "  </tbody>\n",
       "</table>\n",
       "</div>"
      ],
      "text/plain": [
       "    IDADE       PESO\n",
       "0      80  78.078947\n",
       "1      81  78.189655\n",
       "2      82  77.306931\n",
       "3      83  76.051020\n",
       "4      84  75.562500\n",
       "5      85  75.608696\n",
       "6      86  77.070707\n",
       "7      87  76.647059\n",
       "8      88  78.168675\n",
       "9      89  82.759615\n",
       "10     90  77.238938\n",
       "11     91  75.605263\n",
       "12     92  76.360825\n",
       "13     93  76.431034\n",
       "14     94  77.524590\n",
       "15     95  76.849057\n",
       "16     96  78.692308\n",
       "17     97  75.111111\n",
       "18     98  79.000000\n",
       "19     99  76.367816"
      ]
     },
     "execution_count": 90,
     "metadata": {},
     "output_type": "execute_result"
    }
   ],
   "source": [
    "dado = amostra.groupby('IDADE').agg({'PESO' : 'mean'})\n",
    "dado.reset_index(inplace=True)\n",
    "dado"
   ]
  },
  {
   "cell_type": "code",
   "execution_count": 91,
   "metadata": {},
   "outputs": [
    {
     "data": {
      "image/png": "[encoded data removed]",
      "text/plain": [
       "<Figure size 1000x500 with 1 Axes>"
      ]
     },
     "metadata": {},
     "output_type": "display_data"
    }
   ],
   "source": [
    "plt.figure(figsize=(10,5))\n",
    "plt.scatter(x=dado.IDADE, y=dado.PESO)\n",
    "plt.xlabel('Idade')\n",
    "plt.ylabel('Média da Peso')\n",
    "plt.show()"
   ]
  },
  {
   "cell_type": "code",
   "execution_count": 92,
   "metadata": {},
   "outputs": [
    {
     "name": "stderr",
     "output_type": "stream",
     "text": [
      "C:\\ProgramData\\Anaconda3\\lib\\site-packages\\seaborn\\distributions.py:2551: FutureWarning: `distplot` is a deprecated function and will be removed in a future version. Please adapt your code to use either `displot` (a figure-level function with similar flexibility) or `histplot` (an axes-level function for histograms).\n",
      "  warnings.warn(msg, FutureWarning)\n"
     ]
    },
    {
     "data": {
      "image/png": "[encoded data removed]",
      "text/plain": [
       "<Figure size 600x400 with 1 Axes>"
      ]
     },
     "metadata": {},
     "output_type": "display_data"
    }
   ],
   "source": [
    "sns.distplot(np.log(amostra.PESO))\n",
    "plt.title(\"Peso\")\n",
    "plt.show()"
   ]
  },
  {
   "cell_type": "markdown",
   "metadata": {},
   "source": [
    "# Dashboard"
   ]
  },
  {
   "cell_type": "code",
   "execution_count": 100,
   "metadata": {},
   "outputs": [
    {
     "data": {
      "application/vnd.jupyter.widget-view+json": {
       "model_id": "9dae90fb14f54e1da7a609c19b0a11d3",
       "version_major": 2,
       "version_minor": 0
      },
      "text/plain": [
       "HBox(children=(HTML(value=''), FloatProgress(value=0.0, layout=Layout(flex='2'), max=11.0), HTML(value='')), l…"
      ]
     },
     "metadata": {},
     "output_type": "display_data"
    },
    {
     "name": "stdout",
     "output_type": "stream",
     "text": [
      "\n",
      "Report SWEETVIZ_REPORT.html was generated! NOTEBOOK/COLAB USERS: the web browser MAY not pop up, regardless, the report IS saved in your notebook/colab files.\n"
     ]
    }
   ],
   "source": [
    "my_report = sv.analyze(dados) #criar um report e chamar de my_report\n",
    "my_report.show_html()"
   ]
  },
  {
   "cell_type": "code",
   "execution_count": 94,
   "metadata": {},
   "outputs": [
    {
     "data": {
      "text/html": [
       "<div>\n",
       "<style scoped>\n",
       "    .dataframe tbody tr th:only-of-type {\n",
       "        vertical-align: middle;\n",
       "    }\n",
       "\n",
       "    .dataframe tbody tr th {\n",
       "        vertical-align: top;\n",
       "    }\n",
       "\n",
       "    .dataframe thead th {\n",
       "        text-align: right;\n",
       "    }\n",
       "</style>\n",
       "<table border=\"1\" class=\"dataframe\">\n",
       "  <thead>\n",
       "    <tr style=\"text-align: right;\">\n",
       "      <th></th>\n",
       "      <th>CÓD</th>\n",
       "      <th>SEXO</th>\n",
       "      <th>IDADE</th>\n",
       "      <th>PESO</th>\n",
       "      <th>ALTURA</th>\n",
       "      <th>CP</th>\n",
       "      <th>IMC</th>\n",
       "      <th>CDI</th>\n",
       "      <th>CDCP</th>\n",
       "      <th>GE</th>\n",
       "    </tr>\n",
       "  </thead>\n",
       "  <tbody>\n",
       "    <tr>\n",
       "      <th>0</th>\n",
       "      <td>99709544622</td>\n",
       "      <td>MASCULINO</td>\n",
       "      <td>62</td>\n",
       "      <td>84</td>\n",
       "      <td>1.61</td>\n",
       "      <td>29</td>\n",
       "      <td>32,4</td>\n",
       "      <td>EXCESSO DE PESO</td>\n",
       "      <td>COM RISCO DE DESNUTRICAO</td>\n",
       "      <td>2520</td>\n",
       "    </tr>\n",
       "    <tr>\n",
       "      <th>1</th>\n",
       "      <td>32205021941</td>\n",
       "      <td>FEMININO</td>\n",
       "      <td>81</td>\n",
       "      <td>66</td>\n",
       "      <td>1.50</td>\n",
       "      <td>31</td>\n",
       "      <td>29,3</td>\n",
       "      <td>EXCESSO DE PESO</td>\n",
       "      <td>SEM RISCO DE DESNUTRICAO</td>\n",
       "      <td>1980</td>\n",
       "    </tr>\n",
       "    <tr>\n",
       "      <th>2</th>\n",
       "      <td>76339377550</td>\n",
       "      <td>MASCULINO</td>\n",
       "      <td>87</td>\n",
       "      <td>51</td>\n",
       "      <td>1.72</td>\n",
       "      <td>29</td>\n",
       "      <td>17,2</td>\n",
       "      <td>BAIXO PESO</td>\n",
       "      <td>COM RISCO DE DESNUTRICAO</td>\n",
       "      <td>1530</td>\n",
       "    </tr>\n",
       "    <tr>\n",
       "      <th>3</th>\n",
       "      <td>44504209564</td>\n",
       "      <td>MASCULINO</td>\n",
       "      <td>69</td>\n",
       "      <td>84</td>\n",
       "      <td>1.55</td>\n",
       "      <td>29</td>\n",
       "      <td>35</td>\n",
       "      <td>EXCESSO DE PESO</td>\n",
       "      <td>COM RISCO DE DESNUTRICAO</td>\n",
       "      <td>2520</td>\n",
       "    </tr>\n",
       "    <tr>\n",
       "      <th>4</th>\n",
       "      <td>17811598369</td>\n",
       "      <td>FEMININO</td>\n",
       "      <td>93</td>\n",
       "      <td>90</td>\n",
       "      <td>1.45</td>\n",
       "      <td>39</td>\n",
       "      <td>42,8</td>\n",
       "      <td>EXCESSO DE PESO</td>\n",
       "      <td>SEM RISCO DE DESNUTRICAO</td>\n",
       "      <td>2700</td>\n",
       "    </tr>\n",
       "  </tbody>\n",
       "</table>\n",
       "</div>"
      ],
      "text/plain": [
       "           CÓD       SEXO  IDADE  PESO  ALTURA  CP   IMC              CDI  \\\n",
       "0  99709544622  MASCULINO     62    84    1.61  29  32,4  EXCESSO DE PESO   \n",
       "1  32205021941   FEMININO     81    66    1.50  31  29,3  EXCESSO DE PESO   \n",
       "2  76339377550  MASCULINO     87    51    1.72  29  17,2       BAIXO PESO   \n",
       "3  44504209564  MASCULINO     69    84    1.55  29    35  EXCESSO DE PESO   \n",
       "4  17811598369   FEMININO     93    90    1.45  39  42,8  EXCESSO DE PESO   \n",
       "\n",
       "                       CDCP    GE  \n",
       "0  COM RISCO DE DESNUTRICAO  2520  \n",
       "1  SEM RISCO DE DESNUTRICAO  1980  \n",
       "2  COM RISCO DE DESNUTRICAO  1530  \n",
       "3  COM RISCO DE DESNUTRICAO  2520  \n",
       "4  SEM RISCO DE DESNUTRICAO  2700  "
      ]
     },
     "execution_count": 94,
     "metadata": {},
     "output_type": "execute_result"
    }
   ],
   "source": [
    "msk = np.random.rand(len(dados)) < 0.8\n",
    "train = dados[msk]\n",
    "test = dados[~msk]\n",
    "\n",
    "train.head() # 80%"
   ]
  },
  {
   "cell_type": "code",
   "execution_count": 95,
   "metadata": {},
   "outputs": [
    {
     "data": {
      "text/html": [
       "<div>\n",
       "<style scoped>\n",
       "    .dataframe tbody tr th:only-of-type {\n",
       "        vertical-align: middle;\n",
       "    }\n",
       "\n",
       "    .dataframe tbody tr th {\n",
       "        vertical-align: top;\n",
       "    }\n",
       "\n",
       "    .dataframe thead th {\n",
       "        text-align: right;\n",
       "    }\n",
       "</style>\n",
       "<table border=\"1\" class=\"dataframe\">\n",
       "  <thead>\n",
       "    <tr style=\"text-align: right;\">\n",
       "      <th></th>\n",
       "      <th>CÓD</th>\n",
       "      <th>SEXO</th>\n",
       "      <th>IDADE</th>\n",
       "      <th>PESO</th>\n",
       "      <th>ALTURA</th>\n",
       "      <th>CP</th>\n",
       "      <th>IMC</th>\n",
       "      <th>CDI</th>\n",
       "      <th>CDCP</th>\n",
       "      <th>GE</th>\n",
       "    </tr>\n",
       "  </thead>\n",
       "  <tbody>\n",
       "    <tr>\n",
       "      <th>16</th>\n",
       "      <td>76231027620</td>\n",
       "      <td>FEMININO</td>\n",
       "      <td>87</td>\n",
       "      <td>62</td>\n",
       "      <td>1.73</td>\n",
       "      <td>27</td>\n",
       "      <td>20,7</td>\n",
       "      <td>BAIXO PESO</td>\n",
       "      <td>COM RISCO DE DESNUTRICAO</td>\n",
       "      <td>1860</td>\n",
       "    </tr>\n",
       "    <tr>\n",
       "      <th>23</th>\n",
       "      <td>83372228118</td>\n",
       "      <td>MASCULINO</td>\n",
       "      <td>60</td>\n",
       "      <td>90</td>\n",
       "      <td>1.66</td>\n",
       "      <td>40</td>\n",
       "      <td>32,7</td>\n",
       "      <td>EXCESSO DE PESO</td>\n",
       "      <td>SEM RISCO DE DESNUTRICAO</td>\n",
       "      <td>2700</td>\n",
       "    </tr>\n",
       "    <tr>\n",
       "      <th>24</th>\n",
       "      <td>39119947358</td>\n",
       "      <td>MASCULINO</td>\n",
       "      <td>82</td>\n",
       "      <td>81</td>\n",
       "      <td>1.64</td>\n",
       "      <td>27</td>\n",
       "      <td>30,1</td>\n",
       "      <td>EXCESSO DE PESO</td>\n",
       "      <td>COM RISCO DE DESNUTRICAO</td>\n",
       "      <td>2430</td>\n",
       "    </tr>\n",
       "    <tr>\n",
       "      <th>29</th>\n",
       "      <td>93361446617</td>\n",
       "      <td>MASCULINO</td>\n",
       "      <td>91</td>\n",
       "      <td>52</td>\n",
       "      <td>1.60</td>\n",
       "      <td>36</td>\n",
       "      <td>20,3</td>\n",
       "      <td>BAIXO PESO</td>\n",
       "      <td>SEM RISCO DE DESNUTRICAO</td>\n",
       "      <td>1560</td>\n",
       "    </tr>\n",
       "    <tr>\n",
       "      <th>33</th>\n",
       "      <td>68391430785</td>\n",
       "      <td>FEMININO</td>\n",
       "      <td>78</td>\n",
       "      <td>80</td>\n",
       "      <td>1.78</td>\n",
       "      <td>30</td>\n",
       "      <td>25,2</td>\n",
       "      <td>PESO ADEQUADO</td>\n",
       "      <td>COM RISCO DE DESNUTRICAO</td>\n",
       "      <td>2400</td>\n",
       "    </tr>\n",
       "  </tbody>\n",
       "</table>\n",
       "</div>"
      ],
      "text/plain": [
       "            CÓD       SEXO  IDADE  PESO  ALTURA  CP   IMC              CDI  \\\n",
       "16  76231027620   FEMININO     87    62    1.73  27  20,7       BAIXO PESO   \n",
       "23  83372228118  MASCULINO     60    90    1.66  40  32,7  EXCESSO DE PESO   \n",
       "24  39119947358  MASCULINO     82    81    1.64  27  30,1  EXCESSO DE PESO   \n",
       "29  93361446617  MASCULINO     91    52    1.60  36  20,3       BAIXO PESO   \n",
       "33  68391430785   FEMININO     78    80    1.78  30  25,2    PESO ADEQUADO   \n",
       "\n",
       "                        CDCP    GE  \n",
       "16  COM RISCO DE DESNUTRICAO  1860  \n",
       "23  SEM RISCO DE DESNUTRICAO  2700  \n",
       "24  COM RISCO DE DESNUTRICAO  2430  \n",
       "29  SEM RISCO DE DESNUTRICAO  1560  \n",
       "33  COM RISCO DE DESNUTRICAO  2400  "
      ]
     },
     "execution_count": 95,
     "metadata": {},
     "output_type": "execute_result"
    }
   ],
   "source": [
    "test.head() # 20%"
   ]
  },
  {
   "cell_type": "code",
   "execution_count": 96,
   "metadata": {},
   "outputs": [
    {
     "data": {
      "application/vnd.jupyter.widget-view+json": {
       "model_id": "d758fd32e95148d38cbb4588d4a0df5e",
       "version_major": 2,
       "version_minor": 0
      },
      "text/plain": [
       "HBox(children=(HTML(value=''), FloatProgress(value=0.0, layout=Layout(flex='2'), max=11.0), HTML(value='')), l…"
      ]
     },
     "metadata": {},
     "output_type": "display_data"
    },
    {
     "name": "stdout",
     "output_type": "stream",
     "text": [
      "\n",
      "Report SWEETVIZ_REPORT.html was generated! NOTEBOOK/COLAB USERS: the web browser MAY not pop up, regardless, the report IS saved in your notebook/colab files.\n"
     ]
    }
   ],
   "source": [
    "my_report = sv.compare([train, 'training set'], [test, 'testing set'])\n",
    "my_report.show_html()"
   ]
  },
  {
   "cell_type": "code",
   "execution_count": 101,
   "metadata": {},
   "outputs": [],
   "source": [
    "profile = ProfileReport(dados, title='Pandas Profiling Report', explorative=True)"
   ]
  },
  {
   "cell_type": "code",
   "execution_count": 102,
   "metadata": {},
   "outputs": [
    {
     "data": {
      "application/vnd.jupyter.widget-view+json": {
       "model_id": "b04b481798e640f894f656f19d697e42",
       "version_major": 2,
       "version_minor": 0
      },
      "text/plain": [
       "HBox(children=(HTML(value='Summarize dataset'), FloatProgress(value=0.0, max=23.0), HTML(value='')))"
      ]
     },
     "metadata": {},
     "output_type": "display_data"
    },
    {
     "name": "stdout",
     "output_type": "stream",
     "text": [
      "\n"
     ]
    },
    {
     "data": {
      "application/vnd.jupyter.widget-view+json": {
       "model_id": "294d8ce2a3a24d9e9b45792a0c13eefb",
       "version_major": 2,
       "version_minor": 0
      },
      "text/plain": [
       "HBox(children=(HTML(value='Generate report structure'), FloatProgress(value=0.0, max=1.0), HTML(value='')))"
      ]
     },
     "metadata": {},
     "output_type": "display_data"
    },
    {
     "name": "stdout",
     "output_type": "stream",
     "text": [
      "\n"
     ]
    },
    {
     "data": {
      "application/vnd.jupyter.widget-view+json": {
       "model_id": "870f56ad447c4c078034ce44822ed406",
       "version_major": 2,
       "version_minor": 0
      },
      "text/plain": [
       "HBox(children=(HTML(value='Render HTML'), FloatProgress(value=0.0, max=1.0), HTML(value='')))"
      ]
     },
     "metadata": {},
     "output_type": "display_data"
    },
    {
     "name": "stdout",
     "output_type": "stream",
     "text": [
      "\n"
     ]
    },
    {
     "data": {
      "application/vnd.jupyter.widget-view+json": {
       "model_id": "da57e8950e8e44258edb755aa07536f3",
       "version_major": 2,
       "version_minor": 0
      },
      "text/plain": [
       "HBox(children=(HTML(value='Export report to file'), FloatProgress(value=0.0, max=1.0), HTML(value='')))"
      ]
     },
     "metadata": {},
     "output_type": "display_data"
    },
    {
     "name": "stdout",
     "output_type": "stream",
     "text": [
      "\n"
     ]
    }
   ],
   "source": [
    "profile = dados.profile_report(title='Pandas Profiling Report', plot={'histogram': {'bins': 8}})\n",
    "profile.to_file(\"output.html\")"
   ]
  },
  {
   "cell_type": "code",
   "execution_count": null,
   "metadata": {},
   "outputs": [],
   "source": []
  }
 ],
 "metadata": {
  "kernelspec": {
   "display_name": "Python 3",
   "language": "python",
   "name": "python3"
  },
  "language_info": {
   "codemirror_mode": {
    "name": "ipython",
    "version": 3
   },
   "file_extension": ".py",
   "mimetype": "text/x-python",
   "name": "python",
   "nbconvert_exporter": "python",
   "pygments_lexer": "ipython3",
   "version": "3.8.5"
  }
 },
 "nbformat": 4,
 "nbformat_minor": 4
}
